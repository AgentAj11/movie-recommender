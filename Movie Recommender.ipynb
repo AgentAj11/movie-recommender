{
 "cells": [
  {
   "cell_type": "code",
   "execution_count": 1,
   "id": "71fc1bf9-eccf-4ad6-94d5-196a1c8b9edd",
   "metadata": {},
   "outputs": [],
   "source": [
    "import pandas as pd\n",
    "import re\n",
    "from sklearn.feature_extraction.text import TfidfVectorizer\n",
    "from sklearn.metrics.pairwise import cosine_similarity\n",
    "import numpy as np\n",
    "import ipywidgets as widgets\n",
    "from IPython.display import display"
   ]
  },
  {
   "cell_type": "markdown",
   "id": "244fdc55-a024-41e6-a103-88180c555b93",
   "metadata": {},
   "source": [
    "# Data collection"
   ]
  },
  {
   "cell_type": "code",
   "execution_count": 3,
   "id": "23aacbc5-693a-47f0-ab2e-084dbe36cf2a",
   "metadata": {},
   "outputs": [],
   "source": [
    "movies = pd.read_csv(\"dataset/movies.csv\")\n",
    "ratings = pd.read_csv(\"dataset/ratings.csv\")"
   ]
  },
  {
   "cell_type": "markdown",
   "id": "bd260126-da86-4f1e-8462-9149a391e857",
   "metadata": {},
   "source": [
    "# Data pre-processing"
   ]
  },
  {
   "cell_type": "code",
   "execution_count": 5,
   "id": "0a680ca8-0e57-4452-98e9-dfb8ae1efc24",
   "metadata": {},
   "outputs": [],
   "source": [
    "def clean_title(title):\n",
    "    return re.sub(\"[^a-zA-Z0-9 ]\", \"\", title)\n",
    "movies[\"clean_title\"] = movies[\"title\"].apply(clean_title)"
   ]
  },
  {
   "cell_type": "markdown",
   "id": "71b1e079-c42b-4ceb-a5a3-52717d009bed",
   "metadata": {},
   "source": [
    "# Movie title vectorization (for searching algorithm)"
   ]
  },
  {
   "cell_type": "code",
   "execution_count": 6,
   "id": "8324f180-160e-409f-a23a-24785b7cfb4f",
   "metadata": {},
   "outputs": [],
   "source": [
    "from sklearn.feature_extraction.text import TfidfVectorizer\n",
    "vectorizer = TfidfVectorizer(ngram_range=(1, 2))\n",
    "movies_vec = vectorizer.fit_transform(movies[\"clean_title\"])"
   ]
  },
  {
   "cell_type": "markdown",
   "id": "46107b67-918f-4cff-b897-622fc5dac5a9",
   "metadata": {},
   "source": [
    "# Search engine"
   ]
  },
  {
   "cell_type": "code",
   "execution_count": 7,
   "id": "e893aca6-774e-4f22-bbe2-976554d5ce2f",
   "metadata": {},
   "outputs": [],
   "source": [
    "def search(title):\n",
    "    title = clean_title(title)\n",
    "    input_vec = vectorizer.transform([title]) # vector of user input\n",
    "    similarity = cosine_similarity(input_vec, movies_vec).flatten() # movies_vec --> vector for all the movies\n",
    "    indices = np.argpartition(similarity, -5)[-5:] # returns 5 similar titles only\n",
    "    results = movies.iloc[indices][::-1]\n",
    "    return results "
   ]
  },
  {
   "cell_type": "markdown",
   "id": "a62ef136-feee-4787-a1d5-7594a95361d3",
   "metadata": {},
   "source": [
    "# Search engine UI"
   ]
  },
  {
   "cell_type": "code",
   "execution_count": 8,
   "id": "da7ddf78-f0a1-42e2-8ee3-1a597f30ac23",
   "metadata": {},
   "outputs": [
    {
     "data": {
      "application/vnd.jupyter.widget-view+json": {
       "model_id": "9ab75f0234104935b8a9640638bc830a",
       "version_major": 2,
       "version_minor": 0
      },
      "text/plain": [
       "Text(value='', description='Search: ')"
      ]
     },
     "metadata": {},
     "output_type": "display_data"
    },
    {
     "data": {
      "application/vnd.jupyter.widget-view+json": {
       "model_id": "ff935d10901d45298c9d5b83d8a93844",
       "version_major": 2,
       "version_minor": 0
      },
      "text/plain": [
       "Output()"
      ]
     },
     "metadata": {},
     "output_type": "display_data"
    }
   ],
   "source": [
    "movie_input = widgets.Text(\n",
    "    value=None,\n",
    "    description=\"Search: \",\n",
    "    disabled=False\n",
    ")\n",
    "\n",
    "movie_output = widgets.Output()\n",
    "# on_type = Event Handler\n",
    "# Whenever a character is entered in the input box, on_type is called for it like - for one character, for first two character, for first three character etc.\n",
    "def on_type(data):\n",
    "    with movie_output:\n",
    "        movie_output.clear_output() # clears users past input\n",
    "        title = data[\"new\"]\n",
    "        if len(title) >= 3:\n",
    "            display(search(title))\n",
    "\n",
    "movie_input.observe(on_type, names=\"value\") # put observe on input field to create an event\n",
    "display(movie_input, movie_output)"
   ]
  },
  {
   "cell_type": "markdown",
   "id": "f422c3fd-1f7c-408f-a644-5465f8c8b825",
   "metadata": {},
   "source": [
    "# Recommender"
   ]
  },
  {
   "cell_type": "code",
   "execution_count": 16,
   "id": "dbdf074d-3204-42f7-adfe-3f95c2f815f8",
   "metadata": {},
   "outputs": [],
   "source": [
    "def find_similar_movies(movie_id):\n",
    "    similar_users = ratings[(ratings[\"movieId\"] == movie_id) & (ratings[\"rating\"] > 4)][\"userId\"].unique()\n",
    "    similar_user_recs = ratings[(ratings[\"userId\"].isin(similar_users)) & (ratings[\"rating\"] > 4)][\"movieId\"]\n",
    "    \n",
    "    similar_user_recs = similar_user_recs.value_counts() / len(similar_users)\n",
    "    similar_user_recs = similar_user_recs[similar_user_recs > .10]\n",
    "    \n",
    "    all_users = ratings[(ratings[\"movieId\"].isin(similar_user_recs.index)) & (ratings[\"rating\"] > 4)]\n",
    "    all_user_recs = all_users[\"movieId\"].value_counts() / len(all_users[\"userId\"].unique())\n",
    "    \n",
    "    rec_percentages = pd.concat([similar_user_recs, all_user_recs], axis=1)\n",
    "    rec_percentages.columns = [\"similar\", \"all\"]\n",
    "    \n",
    "    rec_percentages[\"score\"] = rec_percentages[\"similar\"] / rec_percentages[\"all\"]\n",
    "    rec_percentages = rec_percentages.sort_values(\"score\", ascending=False)\n",
    "    return rec_percentages.head(10).merge(movies, left_index=True, right_on=\"movieId\")[[\"title\", \"genres\"]]"
   ]
  },
  {
   "cell_type": "code",
   "execution_count": null,
   "id": "d215de44-6001-44e7-8b33-39b7fa6863fb",
   "metadata": {},
   "outputs": [],
   "source": []
  },
  {
   "cell_type": "markdown",
   "id": "336e5f95-4c5b-44b2-b311-6724a482fd82",
   "metadata": {},
   "source": [
    "# Recommender UI"
   ]
  },
  {
   "cell_type": "code",
   "execution_count": 17,
   "id": "cca9e5ea-50d4-4bda-9e71-6ab7237dd4ca",
   "metadata": {},
   "outputs": [
    {
     "data": {
      "application/vnd.jupyter.widget-view+json": {
       "model_id": "8752528a9a1c429f8852f311383b0610",
       "version_major": 2,
       "version_minor": 0
      },
      "text/plain": [
       "Text(value='', description='Movie Title: ')"
      ]
     },
     "metadata": {},
     "output_type": "display_data"
    },
    {
     "data": {
      "application/vnd.jupyter.widget-view+json": {
       "model_id": "608f8be075ab4b31931c7ebcf00a1940",
       "version_major": 2,
       "version_minor": 0
      },
      "text/plain": [
       "Output()"
      ]
     },
     "metadata": {},
     "output_type": "display_data"
    }
   ],
   "source": [
    "movie_name_input = widgets.Text(\n",
    "    value=None,\n",
    "    description=\"Movie Title: \",\n",
    "    disabled=False\n",
    ")\n",
    "recommendations = widgets.Output()\n",
    "\n",
    "def on_type(data):\n",
    "    with recommendations:\n",
    "        recommendations.clear_output()\n",
    "        title = data[\"new\"]\n",
    "        if len(title) > 3:\n",
    "            results = search(title)\n",
    "            if not results.empty:\n",
    "                movie_id = results.iloc[0][\"movieId\"]\n",
    "                display(find_similar_movies(movie_id))\n",
    "            else:\n",
    "                print(\"No results found for the given title.\")\n",
    "\n",
    "movie_name_input.observe(on_type, names=\"value\")\n",
    "display(movie_name_input, recommendations)"
   ]
  },
  {
   "cell_type": "code",
   "execution_count": null,
   "id": "100b30c0-a00f-4a09-ac21-68ef1f9df3b9",
   "metadata": {},
   "outputs": [],
   "source": []
  }
 ],
 "metadata": {
  "kernelspec": {
   "display_name": "Python 3 (ipykernel)",
   "language": "python",
   "name": "python3"
  },
  "language_info": {
   "codemirror_mode": {
    "name": "ipython",
    "version": 3
   },
   "file_extension": ".py",
   "mimetype": "text/x-python",
   "name": "python",
   "nbconvert_exporter": "python",
   "pygments_lexer": "ipython3",
   "version": "3.10.5"
  }
 },
 "nbformat": 4,
 "nbformat_minor": 5
}
